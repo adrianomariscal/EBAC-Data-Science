{
 "cells": [
  {
   "cell_type": "markdown",
   "metadata": {
    "id": "VOTu7U3Mvxzq"
   },
   "source": [
    "# **MÓDULO 13**\n",
    "# Projeto - Fundamentos da Descoberta de Dados"
   ]
  },
  {
   "cell_type": "markdown",
   "metadata": {
    "id": "-HYgkdAywLd0"
   },
   "source": [
    "Nesse projeto trabalharemos com a base de dados de produtos de um supermercado do Chile.\n",
    "A ideia é que vocês apliquem os conceitos estatísticos vistos no último módulo, mais os conceitos de visualizações de dados através de gráficos e finalizem publicando no seu github!"
   ]
  },
  {
   "cell_type": "code",
   "execution_count": 1,
   "metadata": {
    "id": "OTdTnbzUwE2X"
   },
   "outputs": [],
   "source": [
    "import pandas as pd\n",
    "import matplotlib.pyplot as plt\n",
    "import plotly.express as px\n",
    "import seaborn as sns"
   ]
  },
  {
   "cell_type": "markdown",
   "metadata": {
    "id": "ky1Dk_KWywEa"
   },
   "source": [
    "Faça a leitura dos dados do arquivo CSV:\n",
    "\n",
    "\n",
    "Altere o código abaixo de acordo com seu diretório."
   ]
  },
  {
   "cell_type": "code",
   "execution_count": 2,
   "metadata": {
    "colab": {
     "base_uri": "https://localhost:8080/",
     "height": 363
    },
    "id": "bRBFyVB5wlny",
    "outputId": "cde5190b-fecf-48f8-e98c-5ec7e469bcfb"
   },
   "outputs": [
    {
     "name": "stdout",
     "output_type": "stream",
     "text": [
      "<class 'pandas.core.frame.DataFrame'>\n",
      "RangeIndex: 1107 entries, 0 to 1106\n",
      "Data columns (total 7 columns):\n",
      " #   Column          Non-Null Count  Dtype \n",
      "---  ------          --------------  ----- \n",
      " 0   title           1107 non-null   object\n",
      " 1   Marca           1107 non-null   object\n",
      " 2   Preco_Normal    1107 non-null   int64 \n",
      " 3   Preco_Desconto  1107 non-null   int64 \n",
      " 4   Preco_Anterior  1107 non-null   int64 \n",
      " 5   Desconto        1107 non-null   int64 \n",
      " 6   Categoria       1107 non-null   object\n",
      "dtypes: int64(4), object(3)\n",
      "memory usage: 60.7+ KB\n"
     ]
    },
    {
     "data": {
      "text/html": [
       "<div>\n",
       "<style scoped>\n",
       "    .dataframe tbody tr th:only-of-type {\n",
       "        vertical-align: middle;\n",
       "    }\n",
       "\n",
       "    .dataframe tbody tr th {\n",
       "        vertical-align: top;\n",
       "    }\n",
       "\n",
       "    .dataframe thead th {\n",
       "        text-align: right;\n",
       "    }\n",
       "</style>\n",
       "<table border=\"1\" class=\"dataframe\">\n",
       "  <thead>\n",
       "    <tr style=\"text-align: right;\">\n",
       "      <th></th>\n",
       "      <th>Preco_Normal</th>\n",
       "      <th>Preco_Desconto</th>\n",
       "      <th>Preco_Anterior</th>\n",
       "      <th>Desconto</th>\n",
       "    </tr>\n",
       "  </thead>\n",
       "  <tbody>\n",
       "    <tr>\n",
       "      <th>count</th>\n",
       "      <td>1107.000000</td>\n",
       "      <td>1107.000000</td>\n",
       "      <td>1107.000000</td>\n",
       "      <td>1107.000000</td>\n",
       "    </tr>\n",
       "    <tr>\n",
       "      <th>mean</th>\n",
       "      <td>2070.997290</td>\n",
       "      <td>522.269196</td>\n",
       "      <td>372.257453</td>\n",
       "      <td>68.109304</td>\n",
       "    </tr>\n",
       "    <tr>\n",
       "      <th>std</th>\n",
       "      <td>2961.257627</td>\n",
       "      <td>1339.559852</td>\n",
       "      <td>1239.475017</td>\n",
       "      <td>241.158310</td>\n",
       "    </tr>\n",
       "    <tr>\n",
       "      <th>min</th>\n",
       "      <td>0.000000</td>\n",
       "      <td>0.000000</td>\n",
       "      <td>0.000000</td>\n",
       "      <td>0.000000</td>\n",
       "    </tr>\n",
       "    <tr>\n",
       "      <th>25%</th>\n",
       "      <td>0.000000</td>\n",
       "      <td>0.000000</td>\n",
       "      <td>0.000000</td>\n",
       "      <td>0.000000</td>\n",
       "    </tr>\n",
       "    <tr>\n",
       "      <th>50%</th>\n",
       "      <td>1269.000000</td>\n",
       "      <td>0.000000</td>\n",
       "      <td>0.000000</td>\n",
       "      <td>0.000000</td>\n",
       "    </tr>\n",
       "    <tr>\n",
       "      <th>75%</th>\n",
       "      <td>2849.000000</td>\n",
       "      <td>0.000000</td>\n",
       "      <td>0.000000</td>\n",
       "      <td>0.000000</td>\n",
       "    </tr>\n",
       "    <tr>\n",
       "      <th>max</th>\n",
       "      <td>19788.000000</td>\n",
       "      <td>14550.000000</td>\n",
       "      <td>18899.000000</td>\n",
       "      <td>4349.000000</td>\n",
       "    </tr>\n",
       "  </tbody>\n",
       "</table>\n",
       "</div>"
      ],
      "text/plain": [
       "       Preco_Normal  Preco_Desconto  Preco_Anterior     Desconto\n",
       "count   1107.000000     1107.000000     1107.000000  1107.000000\n",
       "mean    2070.997290      522.269196      372.257453    68.109304\n",
       "std     2961.257627     1339.559852     1239.475017   241.158310\n",
       "min        0.000000        0.000000        0.000000     0.000000\n",
       "25%        0.000000        0.000000        0.000000     0.000000\n",
       "50%     1269.000000        0.000000        0.000000     0.000000\n",
       "75%     2849.000000        0.000000        0.000000     0.000000\n",
       "max    19788.000000    14550.000000    18899.000000  4349.000000"
      ]
     },
     "execution_count": 2,
     "metadata": {},
     "output_type": "execute_result"
    }
   ],
   "source": [
    "df = pd.read_csv(\"MODULO7_PROJETOFINAL_BASE_SUPERMERCADO.csv\")\n",
    "df.info()\n",
    "df.describe()\n"
   ]
  },
  {
   "cell_type": "markdown",
   "metadata": {
    "id": "YJgKJ7Nxwtw2"
   },
   "source": [
    "Os campos do nosso dataframe são:\n",
    "\n",
    "**Title:** Nome do produto.\n",
    "\n",
    "\n",
    "**Marca:** A marca do produto.\n",
    "\n",
    "\n",
    "**Preco_Normal:** O preço em que o produto costuma ser vendido quando não há desconto.\n",
    "\n",
    "\n",
    "**Preco_Desconto:** O preço vendido após o desconto ser aplicado.\n",
    "\n",
    "\n",
    "**Preco_Anterior:** Preço em que era comercializado o produto antes do desconto aplicado.\n",
    "\n",
    "\n",
    "**Desconto:** Total de desconto aplicado.\n",
    "\n",
    "\n",
    "\n",
    "\n",
    "\n",
    "\n",
    "As colunas que aparecem com valores 0 são para os produtos onde não tivemos descontos aplicados.\n",
    "\n",
    "\n",
    "As categorias estão em espanhol!"
   ]
  },
  {
   "cell_type": "markdown",
   "metadata": {
    "id": "4u6WBeyyy6ri"
   },
   "source": [
    "# 1 - Traga a média e a mediana dos preços - coluna Preco_Normal - por categoria de produto.\n",
    "# Identifique as categorias que parecem ter um valor de média abaixo ou acima da mediana."
   ]
  },
  {
   "cell_type": "code",
   "execution_count": 3,
   "metadata": {},
   "outputs": [
    {
     "data": {
      "text/html": [
       "<div>\n",
       "<style scoped>\n",
       "    .dataframe tbody tr th:only-of-type {\n",
       "        vertical-align: middle;\n",
       "    }\n",
       "\n",
       "    .dataframe tbody tr th {\n",
       "        vertical-align: top;\n",
       "    }\n",
       "\n",
       "    .dataframe thead th {\n",
       "        text-align: right;\n",
       "    }\n",
       "</style>\n",
       "<table border=\"1\" class=\"dataframe\">\n",
       "  <thead>\n",
       "    <tr style=\"text-align: right;\">\n",
       "      <th></th>\n",
       "      <th>title</th>\n",
       "      <th>Marca</th>\n",
       "      <th>Preco_Normal</th>\n",
       "      <th>Preco_Desconto</th>\n",
       "      <th>Preco_Anterior</th>\n",
       "      <th>Desconto</th>\n",
       "      <th>Categoria</th>\n",
       "    </tr>\n",
       "  </thead>\n",
       "  <tbody>\n",
       "    <tr>\n",
       "      <th>0</th>\n",
       "      <td>Pack 12 un, Leche extra proteína 1 L</td>\n",
       "      <td>Loncoleche</td>\n",
       "      <td>19788</td>\n",
       "      <td>0</td>\n",
       "      <td>0</td>\n",
       "      <td>0</td>\n",
       "      <td>lacteos</td>\n",
       "    </tr>\n",
       "    <tr>\n",
       "      <th>1</th>\n",
       "      <td>Pack 12 un, Leche chocolate receta original 1 L</td>\n",
       "      <td>Soprole</td>\n",
       "      <td>18228</td>\n",
       "      <td>0</td>\n",
       "      <td>0</td>\n",
       "      <td>0</td>\n",
       "      <td>lacteos</td>\n",
       "    </tr>\n",
       "    <tr>\n",
       "      <th>2</th>\n",
       "      <td>Pack 12 un, Leche semidescremada chocolate 1 L</td>\n",
       "      <td>Soprole</td>\n",
       "      <td>18228</td>\n",
       "      <td>0</td>\n",
       "      <td>0</td>\n",
       "      <td>0</td>\n",
       "      <td>lacteos</td>\n",
       "    </tr>\n",
       "    <tr>\n",
       "      <th>3</th>\n",
       "      <td>Pack 12 un, Leche semidescremada frutilla 1 L</td>\n",
       "      <td>Soprole</td>\n",
       "      <td>18228</td>\n",
       "      <td>0</td>\n",
       "      <td>0</td>\n",
       "      <td>0</td>\n",
       "      <td>lacteos</td>\n",
       "    </tr>\n",
       "    <tr>\n",
       "      <th>4</th>\n",
       "      <td>Pack 12 un, Leche sin lactosa chocolate 1 L</td>\n",
       "      <td>Loncoleche</td>\n",
       "      <td>17988</td>\n",
       "      <td>0</td>\n",
       "      <td>0</td>\n",
       "      <td>0</td>\n",
       "      <td>lacteos</td>\n",
       "    </tr>\n",
       "    <tr>\n",
       "      <th>...</th>\n",
       "      <td>...</td>\n",
       "      <td>...</td>\n",
       "      <td>...</td>\n",
       "      <td>...</td>\n",
       "      <td>...</td>\n",
       "      <td>...</td>\n",
       "      <td>...</td>\n",
       "    </tr>\n",
       "    <tr>\n",
       "      <th>1102</th>\n",
       "      <td>Helado bresler pote cassata 2,4l</td>\n",
       "      <td>Bresler</td>\n",
       "      <td>0</td>\n",
       "      <td>4359</td>\n",
       "      <td>5449</td>\n",
       "      <td>1090</td>\n",
       "      <td>congelados</td>\n",
       "    </tr>\n",
       "    <tr>\n",
       "      <th>1103</th>\n",
       "      <td>Helado Trisabor chocolate lúcuma y manjar 2,4 L</td>\n",
       "      <td>Bresler</td>\n",
       "      <td>0</td>\n",
       "      <td>4359</td>\n",
       "      <td>5449</td>\n",
       "      <td>1090</td>\n",
       "      <td>congelados</td>\n",
       "    </tr>\n",
       "    <tr>\n",
       "      <th>1104</th>\n",
       "      <td>Shampoo Reconstrucción Completa 400 ml</td>\n",
       "      <td>Dove</td>\n",
       "      <td>0</td>\n",
       "      <td>2690</td>\n",
       "      <td>3849</td>\n",
       "      <td>1159</td>\n",
       "      <td>belleza-y-cuidado-personal</td>\n",
       "    </tr>\n",
       "    <tr>\n",
       "      <th>1105</th>\n",
       "      <td>Acondicionador Hidratación Intensa 400 ml</td>\n",
       "      <td>Dove</td>\n",
       "      <td>0</td>\n",
       "      <td>2690</td>\n",
       "      <td>3849</td>\n",
       "      <td>1159</td>\n",
       "      <td>belleza-y-cuidado-personal</td>\n",
       "    </tr>\n",
       "    <tr>\n",
       "      <th>1106</th>\n",
       "      <td>Leche en Polvo Nido Forticrece Sin lactosa 1440g</td>\n",
       "      <td>Nido</td>\n",
       "      <td>0</td>\n",
       "      <td>14550</td>\n",
       "      <td>18899</td>\n",
       "      <td>4349</td>\n",
       "      <td>lacteos</td>\n",
       "    </tr>\n",
       "  </tbody>\n",
       "</table>\n",
       "<p>1107 rows × 7 columns</p>\n",
       "</div>"
      ],
      "text/plain": [
       "                                                 title       Marca  \\\n",
       "0                 Pack 12 un, Leche extra proteína 1 L  Loncoleche   \n",
       "1      Pack 12 un, Leche chocolate receta original 1 L     Soprole   \n",
       "2       Pack 12 un, Leche semidescremada chocolate 1 L     Soprole   \n",
       "3        Pack 12 un, Leche semidescremada frutilla 1 L     Soprole   \n",
       "4          Pack 12 un, Leche sin lactosa chocolate 1 L  Loncoleche   \n",
       "...                                                ...         ...   \n",
       "1102                  Helado bresler pote cassata 2,4l     Bresler   \n",
       "1103   Helado Trisabor chocolate lúcuma y manjar 2,4 L     Bresler   \n",
       "1104            Shampoo Reconstrucción Completa 400 ml        Dove   \n",
       "1105         Acondicionador Hidratación Intensa 400 ml        Dove   \n",
       "1106  Leche en Polvo Nido Forticrece Sin lactosa 1440g        Nido   \n",
       "\n",
       "      Preco_Normal  Preco_Desconto  Preco_Anterior  Desconto  \\\n",
       "0            19788               0               0         0   \n",
       "1            18228               0               0         0   \n",
       "2            18228               0               0         0   \n",
       "3            18228               0               0         0   \n",
       "4            17988               0               0         0   \n",
       "...            ...             ...             ...       ...   \n",
       "1102             0            4359            5449      1090   \n",
       "1103             0            4359            5449      1090   \n",
       "1104             0            2690            3849      1159   \n",
       "1105             0            2690            3849      1159   \n",
       "1106             0           14550           18899      4349   \n",
       "\n",
       "                       Categoria  \n",
       "0                        lacteos  \n",
       "1                        lacteos  \n",
       "2                        lacteos  \n",
       "3                        lacteos  \n",
       "4                        lacteos  \n",
       "...                          ...  \n",
       "1102                  congelados  \n",
       "1103                  congelados  \n",
       "1104  belleza-y-cuidado-personal  \n",
       "1105  belleza-y-cuidado-personal  \n",
       "1106                     lacteos  \n",
       "\n",
       "[1107 rows x 7 columns]"
      ]
     },
     "metadata": {},
     "output_type": "display_data"
    },
    {
     "name": "stdout",
     "output_type": "stream",
     "text": [
      "Index(['title', 'Marca', 'Preco_Normal', 'Preco_Desconto', 'Preco_Anterior',\n",
      "       'Desconto', 'Categoria'],\n",
      "      dtype='object')\n"
     ]
    }
   ],
   "source": [
    "display(df)\n",
    "print(df.columns)"
   ]
  },
  {
   "cell_type": "code",
   "execution_count": 4,
   "metadata": {
    "id": "E7B7FolOzVcJ"
   },
   "outputs": [
    {
     "data": {
      "text/html": [
       "<div>\n",
       "<style scoped>\n",
       "    .dataframe tbody tr th:only-of-type {\n",
       "        vertical-align: middle;\n",
       "    }\n",
       "\n",
       "    .dataframe tbody tr th {\n",
       "        vertical-align: top;\n",
       "    }\n",
       "\n",
       "    .dataframe thead th {\n",
       "        text-align: right;\n",
       "    }\n",
       "</style>\n",
       "<table border=\"1\" class=\"dataframe\">\n",
       "  <thead>\n",
       "    <tr style=\"text-align: right;\">\n",
       "      <th></th>\n",
       "      <th>index</th>\n",
       "      <th>Categoria</th>\n",
       "      <th>mean</th>\n",
       "      <th>median</th>\n",
       "    </tr>\n",
       "  </thead>\n",
       "  <tbody>\n",
       "    <tr>\n",
       "      <th>0</th>\n",
       "      <td>0</td>\n",
       "      <td>belleza-y-cuidado-personal</td>\n",
       "      <td>1783.556485</td>\n",
       "      <td>1569.0</td>\n",
       "    </tr>\n",
       "    <tr>\n",
       "      <th>1</th>\n",
       "      <td>1</td>\n",
       "      <td>comidas-preparadas</td>\n",
       "      <td>3095.043478</td>\n",
       "      <td>3290.0</td>\n",
       "    </tr>\n",
       "    <tr>\n",
       "      <th>2</th>\n",
       "      <td>2</td>\n",
       "      <td>congelados</td>\n",
       "      <td>2108.042553</td>\n",
       "      <td>1519.0</td>\n",
       "    </tr>\n",
       "    <tr>\n",
       "      <th>3</th>\n",
       "      <td>3</td>\n",
       "      <td>frutas</td>\n",
       "      <td>1724.473684</td>\n",
       "      <td>1195.0</td>\n",
       "    </tr>\n",
       "    <tr>\n",
       "      <th>4</th>\n",
       "      <td>4</td>\n",
       "      <td>instantaneos-y-sopas</td>\n",
       "      <td>765.491228</td>\n",
       "      <td>439.0</td>\n",
       "    </tr>\n",
       "    <tr>\n",
       "      <th>5</th>\n",
       "      <td>5</td>\n",
       "      <td>lacteos</td>\n",
       "      <td>2385.219239</td>\n",
       "      <td>989.0</td>\n",
       "    </tr>\n",
       "    <tr>\n",
       "      <th>6</th>\n",
       "      <td>6</td>\n",
       "      <td>verduras</td>\n",
       "      <td>1343.296875</td>\n",
       "      <td>1180.0</td>\n",
       "    </tr>\n",
       "  </tbody>\n",
       "</table>\n",
       "</div>"
      ],
      "text/plain": [
       "   index                   Categoria         mean  median\n",
       "0      0  belleza-y-cuidado-personal  1783.556485  1569.0\n",
       "1      1          comidas-preparadas  3095.043478  3290.0\n",
       "2      2                  congelados  2108.042553  1519.0\n",
       "3      3                      frutas  1724.473684  1195.0\n",
       "4      4        instantaneos-y-sopas   765.491228   439.0\n",
       "5      5                     lacteos  2385.219239   989.0\n",
       "6      6                    verduras  1343.296875  1180.0"
      ]
     },
     "execution_count": 4,
     "metadata": {},
     "output_type": "execute_result"
    }
   ],
   "source": [
    "#Juntando média e mediana na mesma tabela para facilitar a comparação. .agg(['coluna 1', 'coluna 2'])\n",
    "\n",
    "df.groupby('Categoria')['Preco_Normal'].agg(['mean', 'median']).reset_index().reset_index().sort_values(by='Categoria', ascending=True)"
   ]
  },
  {
   "cell_type": "markdown",
   "metadata": {
    "id": "nKBFOh-mzyWX"
   },
   "source": [
    "- Média abaixo da mediana: comidas-preparadas\n",
    "    \n",
    "- Média acima da mediana: belleza-y-cuidado-personal, congelados, frutas, instantaneos-y-sopas, verduras.\n",
    "\n",
    "    - Todas categorias apresentam alguma diferença entre **média** e **mediana**, um achado completamente natural. Essa diferença alterna para um pouco mais ou um pouco menos distante da mediana.\n",
    "    - na categoria **lacteos**, essa diferença é marcante, indicando a presença de valores muito discrepantes dentro da amostra. "
   ]
  },
  {
   "cell_type": "markdown",
   "metadata": {
    "id": "jdHZurzDzca0"
   },
   "source": [
    "# 2 - Traga o desvio padrão por categoria de produto.\n",
    "# Qual o comportamento da média e mediana nas categorias com maior desvio?"
   ]
  },
  {
   "cell_type": "code",
   "execution_count": 5,
   "metadata": {
    "id": "xEXT1gtoz135"
   },
   "outputs": [
    {
     "name": "stdout",
     "output_type": "stream",
     "text": [
      "                    Categoria  Desvio_Padrao\n",
      "0  belleza-y-cuidado-personal    2210.041719\n",
      "1          comidas-preparadas    2019.911428\n",
      "2                  congelados    2111.539896\n",
      "3                      frutas    1639.151114\n",
      "4        instantaneos-y-sopas    1170.232869\n",
      "5                     lacteos    3925.816164\n",
      "6                    verduras    1012.699625\n"
     ]
    }
   ],
   "source": [
    "\n",
    "# Calcular desvio padrão do Preco_Normal por categoria\n",
    "desvio_padrao = df.groupby('Categoria')['Preco_Normal'].std().reset_index(name='Desvio_Padrao')\n",
    "\n",
    "print(desvio_padrao)\n"
   ]
  },
  {
   "cell_type": "markdown",
   "metadata": {
    "id": "HzsLO4nOz3yJ"
   },
   "source": [
    " - A Categoria **lacteos** apresentou o maior **desvio padrão** enquanto a categoria **verduras** apresentou o menor.\n",
    "\n",
    "  - Um desvio Padrão **maior** indica maior dispersão de valores, ou seja, há maior variação de preços dentro dessa categoria e, portanto, maior diferença entre média e mediana. "
   ]
  },
  {
   "cell_type": "markdown",
   "metadata": {
    "id": "4aW51rCHBr2w"
   },
   "source": [
    "# 3 - Plot um boxplot da distribuição do Preco_Normal para a categoria que você identificou que tem o maior desvio padrão. Como é a distribuição desses dados segundo o boxplot? Você identifica muitos outliers?"
   ]
  },
  {
   "cell_type": "markdown",
   "metadata": {
    "id": "kwPKkUZnEUSb"
   },
   "source": [
    "Dica: Para trazer apenas os dados da categoria que você deseja você pode usar o df.loc[df['Categoria'] == 'CATEGORIA ESCOLHIDA'"
   ]
  },
  {
   "cell_type": "code",
   "execution_count": 6,
   "metadata": {
    "id": "_02thblTCKEF"
   },
   "outputs": [
    {
     "data": {
      "image/png": "[encoded data removed]",
      "text/plain": [
       "<Figure size 1400x800 with 1 Axes>"
      ]
     },
     "metadata": {},
     "output_type": "display_data"
    }
   ],
   "source": [
    "# Filtrar os dados para a categoria 'Lacteos'\n",
    "df.loc[df['Categoria'] == 'Lacteos']\n",
    "\n",
    "# boxplot\n",
    "plt.figure(figsize=(14, 8))\n",
    "plt.boxplot(df['Preco_Normal'], \n",
    "            vert=True, \n",
    "            patch_artist=True, \n",
    "            boxprops=dict(facecolor='skyblue'))\n",
    "\n",
    "# Configurar o gráfico\n",
    "plt.title('Distribuição do Preço Normal para Lácteos', fontweight='bold', fontsize=16)\n",
    "plt.ylabel('Preço Normal', fontweight='bold', fontsize=12)\n",
    "plt.xlabel('Categoria',fontweight='bold', fontsize=12)\n",
    "plt.xticks([1], ['Lácteos'])  # Ajusta o rótulo para lacteos\n",
    "\n",
    "plt.grid(axis='y',linestyle='--', alpha=0.7)\n",
    "plt.show()"
   ]
  },
  {
   "cell_type": "markdown",
   "metadata": {},
   "source": [
    "#### A variação dos preços dos Lacteos, com produtos com valores muito acima da faixa padrão, me faz sugerir duas possibilidades: \n",
    "\n",
    "#### 1. Há uma linha de produtos premium que possuem valor agregado muito superior e que aparecem fora do padrão.\n",
    "#### 2. São outliers, são aparições atipicas dos valores ou foram erros de plotagem. \n",
    "\n",
    "### Há uma questão importante aqui: Preço Normal e Preço anterior são a mesma coisa. Mas do jeito que está na tabela, separados, gera-se um grande número de entradas = 0 em ambas colunas, puxando a média para baixo e afetando a qualidade da análise. Eu fiz essa análise (juntando as duas colunas para reduzir o número de entradas = 0) para verificar se afetava a análise referente aos outliers e não, os outliers permaneceram lá. Mas é importante que haja essa correção, pois se eu apresentar um box plot de preço para uma plateia que entende esse gráfico, vão perceber que a linha do limite inferior está encostada no zero e vão me questionar se há produtos sendo dados de graça.  "
   ]
  },
  {
   "cell_type": "markdown",
   "metadata": {
    "id": "w5xgQBC_0Hg-"
   },
   "source": [
    "# 4 - Plote um gráfico de barras onde temos a média de descontos por categoria."
   ]
  },
  {
   "cell_type": "code",
   "execution_count": 7,
   "metadata": {
    "id": "DBj5zAdI0QfI"
   },
   "outputs": [
    {
     "name": "stderr",
     "output_type": "stream",
     "text": [
      "C:\\Users\\adria\\AppData\\Local\\Temp\\ipykernel_12584\\333079952.py:10: FutureWarning: \n",
      "\n",
      "Passing `palette` without assigning `hue` is deprecated and will be removed in v0.14.0. Assign the `x` variable to `hue` and set `legend=False` for the same effect.\n",
      "\n",
      "  sns.barplot(x='Categoria', y='Desconto_Percentual', data=media_desconto_percentual, palette='Accent', edgecolor='black', linewidth=0.3, alpha=1.0) # palette é a paleta de cores das colunas.\n"
     ]
    },
    {
     "data": {
      "image/png": "[encoded data removed]",
      "text/plain": [
       "<Figure size 1400x800 with 1 Axes>"
      ]
     },
     "metadata": {},
     "output_type": "display_data"
    }
   ],
   "source": [
    "#vou transformar o desconto em %\n",
    "df['Desconto_Percentual'] = (df['Desconto'] / df['Preco_Anterior']) * 100\n",
    "\n",
    "# Média de descontos por categoria\n",
    "media_desconto_percentual = df.groupby('Categoria')['Desconto_Percentual'].mean().reset_index()\n",
    "\n",
    "\n",
    "# Plotar gráfico de barras\n",
    "plt.figure(figsize=(14, 8))\n",
    "sns.barplot(x='Categoria', y='Desconto_Percentual', data=media_desconto_percentual, palette='Accent', edgecolor='black', linewidth=0.3, alpha=1.0) # palette é a paleta de cores das colunas.\n",
    "\n",
    "plt.title('Média de Descontos por Categoria', fontweight='bold', fontsize=16) \n",
    "plt.xticks(rotation=45)\n",
    "plt.ylabel('Média de Desconto (%)', fontweight='bold', fontsize=12)\n",
    "plt.xlabel('Categoria', fontweight='bold', fontsize=12)\n",
    "plt.grid(axis='y',linestyle='--', alpha=0.5, color='black' )\n",
    "plt.show()\n",
    "\n"
   ]
  },
  {
   "cell_type": "markdown",
   "metadata": {},
   "source": [
    "#### O Gráfico revela quais categorias possuem mais descontos em %. Não é adequado apresentar esse gráfico em valores absolutos, pois são categorias de produtos muito distintos. As colunas ficariam muito diferentes. Uma opção é apresentar o gráfico e em separado, durante a apresentação, citar o quanto rrepresenta esse desconto do gráfico. "
   ]
  },
  {
   "cell_type": "markdown",
   "metadata": {
    "id": "vqlx0w7E07uC"
   },
   "source": [
    "# 5 - Plote um gráfico de mapa interativo agrupando os dados por categoria, marca e trazendo a média de desconto."
   ]
  },
  {
   "cell_type": "code",
   "execution_count": 8,
   "metadata": {
    "id": "D-JWM64Q1NzB"
   },
   "outputs": [
    {
     "data": {
      "application/vnd.plotly.v1+json": {
       "config": {
        "plotlyServerURL": "https://plot.ly"
       },
       "data": [
        {
         "branchvalues": "total",
         "customdata": [
          [
           null
          ],
          [
           null
          ],
          [
           null
          ],
          [
           null
          ],
          [
           null
          ],
          [
           15.004546832373448
          ],
          [
           20.00314564328405
          ],
          [
           null
          ],
          [
           21.307331166486097
          ],
          [
           null
          ],
          [
           24.653405666063897
          ],
          [
           null
          ],
          [
           null
          ],
          [
           25.00961908426318
          ],
          [
           null
          ],
          [
           null
          ],
          [
           null
          ],
          [
           16.99705159555273
          ],
          [
           null
          ],
          [
           null
          ],
          [
           null
          ],
          [
           null
          ],
          [
           null
          ],
          [
           14.99266093520654
          ],
          [
           null
          ],
          [
           null
          ],
          [
           null
          ],
          [
           14.624241796996746
          ],
          [
           null
          ],
          [
           16.351408154686844
          ],
          [
           null
          ],
          [
           null
          ],
          [
           null
          ],
          [
           null
          ],
          [
           null
          ],
          [
           null
          ],
          [
           10.530960128870822
          ],
          [
           null
          ],
          [
           13.0592942888323
          ],
          [
           null
          ],
          [
           null
          ],
          [
           null
          ],
          [
           null
          ],
          [
           25.34127723699652
          ],
          [
           27.277642606109758
          ],
          [
           null
          ],
          [
           null
          ],
          [
           null
          ],
          [
           null
          ],
          [
           null
          ],
          [
           null
          ],
          [
           null
          ],
          [
           null
          ],
          [
           null
          ],
          [
           null
          ],
          [
           17.001632292459107
          ],
          [
           null
          ],
          [
           null
          ],
          [
           null
          ],
          [
           null
          ],
          [
           null
          ],
          [
           null
          ],
          [
           null
          ],
          [
           null
          ],
          [
           null
          ],
          [
           null
          ],
          [
           null
          ],
          [
           null
          ],
          [
           null
          ],
          [
           10.711974110032363
          ],
          [
           null
          ],
          [
           null
          ],
          [
           null
          ],
          [
           null
          ],
          [
           19.22946941534302
          ],
          [
           null
          ],
          [
           null
          ],
          [
           null
          ],
          [
           null
          ],
          [
           null
          ],
          [
           null
          ],
          [
           null
          ],
          [
           null
          ],
          [
           18.997371757194877
          ],
          [
           null
          ],
          [
           15.00342543959808
          ],
          [
           15.312131919905772
          ],
          [
           null
          ],
          [
           null
          ],
          [
           null
          ],
          [
           null
          ],
          [
           null
          ],
          [
           null
          ],
          [
           16
          ],
          [
           null
          ],
          [
           23.01179956611461
          ],
          [
           null
          ],
          [
           null
          ],
          [
           20.002942041776993
          ],
          [
           16.166281755196305
          ],
          [
           null
          ],
          [
           null
          ],
          [
           20.02503128911139
          ],
          [
           null
          ],
          [
           null
          ],
          [
           null
          ],
          [
           24.98432601880878
          ],
          [
           24.98432601880878
          ],
          [
           12.853470437017993
          ],
          [
           null
          ],
          [
           null
          ],
          [
           28.603175722494115
          ],
          [
           17.338032896945283
          ],
          [
           null
          ],
          [
           23.432089265101965
          ],
          [
           null
          ],
          [
           null
          ],
          [
           null
          ],
          [
           null
          ],
          [
           null
          ],
          [
           22.380467955239062
          ],
          [
           15.002830722777883
          ],
          [
           22.380467955239062
          ],
          [
           15.002830722777883
          ],
          [
           null
          ],
          [
           null
          ],
          [
           null
          ],
          [
           null
          ],
          [
           15.00342543959808
          ],
          [
           null
          ],
          [
           null
          ],
          [
           null
          ],
          [
           20.319303338171263
          ],
          [
           null
          ],
          [
           null
          ],
          [
           null
          ],
          [
           12.728820774797786
          ],
          [
           20.467616009737295
          ],
          [
           null
          ],
          [
           null
          ],
          [
           null
          ],
          [
           null
          ],
          [
           null
          ],
          [
           null
          ],
          [
           12.048192771084338
          ],
          [
           null
          ],
          [
           null
          ],
          [
           16.06036940438575
          ],
          [
           null
          ],
          [
           null
          ],
          [
           18.489984591679505
          ],
          [
           null
          ],
          [
           null
          ],
          [
           20.00766622282498
          ],
          [
           null
          ],
          [
           null
          ],
          [
           null
          ],
          [
           null
          ],
          [
           null
          ],
          [
           null
          ],
          [
           null
          ],
          [
           null
          ],
          [
           null
          ],
          [
           15.004122011541632
          ],
          [
           null
          ],
          [
           null
          ],
          [
           null
          ],
          [
           null
          ],
          [
           null
          ],
          [
           null
          ],
          [
           null
          ],
          [
           null
          ],
          [
           null
          ],
          [
           null
          ]
         ],
         "domain": {
          "x": [
           0,
           1
          ],
          "y": [
           0,
           1
          ]
         },
         "hovertemplate": "labels=%{label}<br>Desconto_Percentual_sum=%{value}<br>parent=%{parent}<br>id=%{id}<br>Desconto_Percentual=%{color}<extra></extra>",
         "ids": [
          "lacteos/1+1 Soprole",
          "lacteos/Activia",
          "verduras/Agrosano",
          "instantaneos-y-sopas/Alcafood",
          "congelados/Alimentos Shen",
          "belleza-y-cuidado-personal/Always",
          "belleza-y-cuidado-personal/Aquafresh",
          "lacteos/Astra",
          "belleza-y-cuidado-personal/Axe",
          "belleza-y-cuidado-personal/Babyland",
          "belleza-y-cuidado-personal/Ballerina",
          "lacteos/Base Culinar",
          "belleza-y-cuidado-personal/Bellekiss",
          "belleza-y-cuidado-personal/BiO",
          "lacteos/Bonella",
          "congelados/Bravissimo",
          "comidas-preparadas/Bredenmaster",
          "congelados/Bresler",
          "belleza-y-cuidado-personal/Brooks",
          "lacteos/Calan",
          "lacteos/Calo",
          "belleza-y-cuidado-personal/Carefree",
          "instantaneos-y-sopas/Carozzi",
          "congelados/Carte Dor",
          "lacteos/Chamyto",
          "lacteos/Chiquitín",
          "lacteos/Cintazul",
          "belleza-y-cuidado-personal/Colgate",
          "lacteos/Collico",
          "lacteos/Colun",
          "lacteos/Copacabana",
          "comidas-preparadas/Corbac",
          "belleza-y-cuidado-personal/Cotidian",
          "belleza-y-cuidado-personal/Cotosan",
          "lacteos/Crucina",
          "comidas-preparadas/Cuisine & Co",
          "congelados/Cuisine & Co",
          "instantaneos-y-sopas/Cuisine & Co",
          "lacteos/Cuisine & Co",
          "lacteos/Danone",
          "lacteos/Deline",
          "belleza-y-cuidado-personal/Dento",
          "verduras/Dole",
          "belleza-y-cuidado-personal/Dove",
          "belleza-y-cuidado-personal/Dove Men",
          "belleza-y-cuidado-personal/Duralón",
          "belleza-y-cuidado-personal/Elite",
          "belleza-y-cuidado-personal/Elvive",
          "belleza-y-cuidado-personal/Familand",
          "belleza-y-cuidado-personal/Family Care",
          "congelados/Fiesta",
          "belleza-y-cuidado-personal/Fructis",
          "frutas/Frutas Y Verduras Propias",
          "verduras/Frutas Y Verduras Propias",
          "frutas/Frutas Y Verduras Santa Isabel",
          "congelados/Frutos Del Maipo",
          "belleza-y-cuidado-personal/Garnier",
          "belleza-y-cuidado-personal/Gillette",
          "belleza-y-cuidado-personal/Giselle",
          "instantaneos-y-sopas/Gourmet",
          "congelados/Guallarauco",
          "belleza-y-cuidado-personal/Head & Shoulders",
          "belleza-y-cuidado-personal/Herbal",
          "belleza-y-cuidado-personal/Herbal Essences",
          "instantaneos-y-sopas/Hoffmann",
          "lacteos/Ideal",
          "belleza-y-cuidado-personal/Ilicit",
          "verduras/Jumbo",
          "congelados/King",
          "belleza-y-cuidado-personal/Kotex",
          "lacteos/Kumey",
          "comidas-preparadas/La Crianza",
          "congelados/La Crianza",
          "belleza-y-cuidado-personal/Lady Speed Stick",
          "belleza-y-cuidado-personal/Ladysoft",
          "belleza-y-cuidado-personal/Le Sancy",
          "lacteos/Lefersa",
          "lacteos/Light & Free",
          "belleza-y-cuidado-personal/Linic",
          "belleza-y-cuidado-personal/Listerine",
          "lacteos/Loncoleche",
          "lacteos/Los Alerces",
          "instantaneos-y-sopas/Maggi",
          "congelados/Magnum",
          "lacteos/Marco Polo",
          "congelados/Mega",
          "congelados/Minuto Verde",
          "congelados/Mister Veggie",
          "instantaneos-y-sopas/Máxima MP",
          "lacteos/Máxima MP",
          "belleza-y-cuidado-personal/Naturella",
          "instantaneos-y-sopas/Naturezza",
          "lacteos/Nesquik",
          "lacteos/Nestlé",
          "lacteos/Next",
          "lacteos/Nido",
          "belleza-y-cuidado-personal/Nivea",
          "belleza-y-cuidado-personal/Nivea For Men",
          "belleza-y-cuidado-personal/Nosotras",
          "congelados/Not Burger",
          "congelados/Not Chicken",
          "congelados/Not Ice Cream",
          "lacteos/Not Milk",
          "lacteos/Oikos",
          "belleza-y-cuidado-personal/Old Spice",
          "lacteos/Omega 3",
          "belleza-y-cuidado-personal/Oral Fresh",
          "belleza-y-cuidado-personal/Oral-B",
          "comidas-preparadas/PF",
          "congelados/PF",
          "lacteos/Pamperita",
          "belleza-y-cuidado-personal/Pantene",
          "belleza-y-cuidado-personal/Pepsodent",
          "belleza-y-cuidado-personal/Plenitud",
          "belleza-y-cuidado-personal/Protex",
          "lacteos/Qualy",
          "lacteos/Quillayes",
          "comidas-preparadas/Rana",
          "congelados/Receta Del Abuelo",
          "lacteos/Regimel",
          "belleza-y-cuidado-personal/Rexona",
          "belleza-y-cuidado-personal/Rexona Clinical",
          "belleza-y-cuidado-personal/Rexona Men",
          "belleza-y-cuidado-personal/Rexona Men Clinical",
          "congelados/Rikü",
          "congelados/Rock",
          "comidas-preparadas/Sadia",
          "congelados/Sadia",
          "congelados/Sahne Nuss",
          "lacteos/Sahne Nuss",
          "congelados/San Francisco De Loncomilla",
          "lacteos/San Ignacio",
          "congelados/San Jorge",
          "comidas-preparadas/Santa Isabel",
          "instantaneos-y-sopas/Santa Isabel",
          "lacteos/Santa Isabel",
          "lacteos/Santa Marta",
          "congelados/Savory",
          "belleza-y-cuidado-personal/Schick",
          "belleza-y-cuidado-personal/Sedal",
          "belleza-y-cuidado-personal/Sensodyne",
          "lacteos/Shake A Shake Lonco Leche",
          "lacteos/Signore Mario",
          "belleza-y-cuidado-personal/Simond'S",
          "belleza-y-cuidado-personal/Simonds",
          "frutas/Sofruco",
          "comidas-preparadas/Solo Italia",
          "lacteos/Soprole",
          "lacteos/Soprole Activ",
          "belleza-y-cuidado-personal/Speed Stick",
          "congelados/Super Beef",
          "congelados/Super Cerdo",
          "congelados/Super Pollo",
          "lacteos/Sureña",
          "lacteos/Surlat",
          "lacteos/Svelty",
          "belleza-y-cuidado-personal/Tena",
          "congelados/Tivoni",
          "instantaneos-y-sopas/Traverso",
          "belleza-y-cuidado-personal/Trianon",
          "congelados/Turkey Hill",
          "belleza-y-cuidado-personal/Tío Nacho",
          "belleza-y-cuidado-personal/Vanart",
          "congelados/Viennetta Bresler",
          "lacteos/Yogu - Yogu",
          "lacteos/Zerolacto",
          "congelados/Zole",
          "belleza-y-cuidado-personal",
          "comidas-preparadas",
          "congelados",
          "frutas",
          "instantaneos-y-sopas",
          "lacteos",
          "verduras"
         ],
         "labels": [
          "1+1 Soprole",
          "Activia",
          "Agrosano",
          "Alcafood",
          "Alimentos Shen",
          "Always",
          "Aquafresh",
          "Astra",
          "Axe",
          "Babyland",
          "Ballerina",
          "Base Culinar",
          "Bellekiss",
          "BiO",
          "Bonella",
          "Bravissimo",
          "Bredenmaster",
          "Bresler",
          "Brooks",
          "Calan",
          "Calo",
          "Carefree",
          "Carozzi",
          "Carte Dor",
          "Chamyto",
          "Chiquitín",
          "Cintazul",
          "Colgate",
          "Collico",
          "Colun",
          "Copacabana",
          "Corbac",
          "Cotidian",
          "Cotosan",
          "Crucina",
          "Cuisine & Co",
          "Cuisine & Co",
          "Cuisine & Co",
          "Cuisine & Co",
          "Danone",
          "Deline",
          "Dento",
          "Dole",
          "Dove",
          "Dove Men",
          "Duralón",
          "Elite",
          "Elvive",
          "Familand",
          "Family Care",
          "Fiesta",
          "Fructis",
          "Frutas Y Verduras Propias",
          "Frutas Y Verduras Propias",
          "Frutas Y Verduras Santa Isabel",
          "Frutos Del Maipo",
          "Garnier",
          "Gillette",
          "Giselle",
          "Gourmet",
          "Guallarauco",
          "Head & Shoulders",
          "Herbal",
          "Herbal Essences",
          "Hoffmann",
          "Ideal",
          "Ilicit",
          "Jumbo",
          "King",
          "Kotex",
          "Kumey",
          "La Crianza",
          "La Crianza",
          "Lady Speed Stick",
          "Ladysoft",
          "Le Sancy",
          "Lefersa",
          "Light & Free",
          "Linic",
          "Listerine",
          "Loncoleche",
          "Los Alerces",
          "Maggi",
          "Magnum",
          "Marco Polo",
          "Mega",
          "Minuto Verde",
          "Mister Veggie",
          "Máxima MP",
          "Máxima MP",
          "Naturella",
          "Naturezza",
          "Nesquik",
          "Nestlé",
          "Next",
          "Nido",
          "Nivea",
          "Nivea For Men",
          "Nosotras",
          "Not Burger",
          "Not Chicken",
          "Not Ice Cream",
          "Not Milk",
          "Oikos",
          "Old Spice",
          "Omega 3",
          "Oral Fresh",
          "Oral-B",
          "PF",
          "PF",
          "Pamperita",
          "Pantene",
          "Pepsodent",
          "Plenitud",
          "Protex",
          "Qualy",
          "Quillayes",
          "Rana",
          "Receta Del Abuelo",
          "Regimel",
          "Rexona",
          "Rexona Clinical",
          "Rexona Men",
          "Rexona Men Clinical",
          "Rikü",
          "Rock",
          "Sadia",
          "Sadia",
          "Sahne Nuss",
          "Sahne Nuss",
          "San Francisco De Loncomilla",
          "San Ignacio",
          "San Jorge",
          "Santa Isabel",
          "Santa Isabel",
          "Santa Isabel",
          "Santa Marta",
          "Savory",
          "Schick",
          "Sedal",
          "Sensodyne",
          "Shake A Shake Lonco Leche",
          "Signore Mario",
          "Simond'S",
          "Simonds",
          "Sofruco",
          "Solo Italia",
          "Soprole",
          "Soprole Activ",
          "Speed Stick",
          "Super Beef",
          "Super Cerdo",
          "Super Pollo",
          "Sureña",
          "Surlat",
          "Svelty",
          "Tena",
          "Tivoni",
          "Traverso",
          "Trianon",
          "Turkey Hill",
          "Tío Nacho",
          "Vanart",
          "Viennetta Bresler",
          "Yogu - Yogu",
          "Zerolacto",
          "Zole",
          "belleza-y-cuidado-personal",
          "comidas-preparadas",
          "congelados",
          "frutas",
          "instantaneos-y-sopas",
          "lacteos",
          "verduras"
         ],
         "marker": {
          "coloraxis": "coloraxis",
          "colors": [
           null,
           null,
           null,
           null,
           null,
           15.004546832373448,
           20.00314564328405,
           null,
           21.307331166486097,
           null,
           24.653405666063897,
           null,
           null,
           25.00961908426318,
           null,
           null,
           null,
           16.99705159555273,
           null,
           null,
           null,
           null,
           null,
           14.99266093520654,
           null,
           null,
           null,
           14.624241796996746,
           null,
           16.351408154686844,
           null,
           null,
           null,
           null,
           null,
           null,
           10.530960128870822,
           null,
           13.0592942888323,
           null,
           null,
           null,
           null,
           25.34127723699652,
           27.277642606109758,
           null,
           null,
           null,
           null,
           null,
           null,
           null,
           null,
           null,
           null,
           17.001632292459107,
           null,
           null,
           null,
           null,
           null,
           null,
           null,
           null,
           null,
           null,
           null,
           null,
           null,
           10.711974110032363,
           null,
           null,
           null,
           null,
           19.22946941534302,
           null,
           null,
           null,
           null,
           null,
           null,
           null,
           null,
           18.997371757194877,
           null,
           15.00342543959808,
           15.312131919905772,
           null,
           null,
           null,
           null,
           null,
           null,
           16,
           null,
           23.01179956611461,
           null,
           null,
           20.002942041776993,
           16.166281755196305,
           null,
           null,
           20.02503128911139,
           null,
           null,
           null,
           24.98432601880878,
           24.98432601880878,
           12.853470437017993,
           null,
           null,
           28.603175722494115,
           17.338032896945283,
           null,
           23.432089265101965,
           null,
           null,
           null,
           null,
           null,
           22.380467955239062,
           15.002830722777883,
           22.380467955239062,
           15.002830722777883,
           null,
           null,
           null,
           null,
           15.00342543959808,
           null,
           null,
           null,
           20.319303338171263,
           null,
           null,
           null,
           12.728820774797786,
           20.467616009737295,
           null,
           null,
           null,
           null,
           null,
           null,
           12.048192771084338,
           null,
           null,
           16.06036940438575,
           null,
           null,
           18.489984591679505,
           null,
           null,
           20.00766622282498,
           null,
           null,
           null,
           null,
           null,
           null,
           null,
           null,
           null,
           15.004122011541632,
           null,
           null,
           null,
           null,
           null,
           null,
           null,
           null,
           null,
           null
          ]
         },
         "name": "",
         "parents": [
          "lacteos",
          "lacteos",
          "verduras",
          "instantaneos-y-sopas",
          "congelados",
          "belleza-y-cuidado-personal",
          "belleza-y-cuidado-personal",
          "lacteos",
          "belleza-y-cuidado-personal",
          "belleza-y-cuidado-personal",
          "belleza-y-cuidado-personal",
          "lacteos",
          "belleza-y-cuidado-personal",
          "belleza-y-cuidado-personal",
          "lacteos",
          "congelados",
          "comidas-preparadas",
          "congelados",
          "belleza-y-cuidado-personal",
          "lacteos",
          "lacteos",
          "belleza-y-cuidado-personal",
          "instantaneos-y-sopas",
          "congelados",
          "lacteos",
          "lacteos",
          "lacteos",
          "belleza-y-cuidado-personal",
          "lacteos",
          "lacteos",
          "lacteos",
          "comidas-preparadas",
          "belleza-y-cuidado-personal",
          "belleza-y-cuidado-personal",
          "lacteos",
          "comidas-preparadas",
          "congelados",
          "instantaneos-y-sopas",
          "lacteos",
          "lacteos",
          "lacteos",
          "belleza-y-cuidado-personal",
          "verduras",
          "belleza-y-cuidado-personal",
          "belleza-y-cuidado-personal",
          "belleza-y-cuidado-personal",
          "belleza-y-cuidado-personal",
          "belleza-y-cuidado-personal",
          "belleza-y-cuidado-personal",
          "belleza-y-cuidado-personal",
          "congelados",
          "belleza-y-cuidado-personal",
          "frutas",
          "verduras",
          "frutas",
          "congelados",
          "belleza-y-cuidado-personal",
          "belleza-y-cuidado-personal",
          "belleza-y-cuidado-personal",
          "instantaneos-y-sopas",
          "congelados",
          "belleza-y-cuidado-personal",
          "belleza-y-cuidado-personal",
          "belleza-y-cuidado-personal",
          "instantaneos-y-sopas",
          "lacteos",
          "belleza-y-cuidado-personal",
          "verduras",
          "congelados",
          "belleza-y-cuidado-personal",
          "lacteos",
          "comidas-preparadas",
          "congelados",
          "belleza-y-cuidado-personal",
          "belleza-y-cuidado-personal",
          "belleza-y-cuidado-personal",
          "lacteos",
          "lacteos",
          "belleza-y-cuidado-personal",
          "belleza-y-cuidado-personal",
          "lacteos",
          "lacteos",
          "instantaneos-y-sopas",
          "congelados",
          "lacteos",
          "congelados",
          "congelados",
          "congelados",
          "instantaneos-y-sopas",
          "lacteos",
          "belleza-y-cuidado-personal",
          "instantaneos-y-sopas",
          "lacteos",
          "lacteos",
          "lacteos",
          "lacteos",
          "belleza-y-cuidado-personal",
          "belleza-y-cuidado-personal",
          "belleza-y-cuidado-personal",
          "congelados",
          "congelados",
          "congelados",
          "lacteos",
          "lacteos",
          "belleza-y-cuidado-personal",
          "lacteos",
          "belleza-y-cuidado-personal",
          "belleza-y-cuidado-personal",
          "comidas-preparadas",
          "congelados",
          "lacteos",
          "belleza-y-cuidado-personal",
          "belleza-y-cuidado-personal",
          "belleza-y-cuidado-personal",
          "belleza-y-cuidado-personal",
          "lacteos",
          "lacteos",
          "comidas-preparadas",
          "congelados",
          "lacteos",
          "belleza-y-cuidado-personal",
          "belleza-y-cuidado-personal",
          "belleza-y-cuidado-personal",
          "belleza-y-cuidado-personal",
          "congelados",
          "congelados",
          "comidas-preparadas",
          "congelados",
          "congelados",
          "lacteos",
          "congelados",
          "lacteos",
          "congelados",
          "comidas-preparadas",
          "instantaneos-y-sopas",
          "lacteos",
          "lacteos",
          "congelados",
          "belleza-y-cuidado-personal",
          "belleza-y-cuidado-personal",
          "belleza-y-cuidado-personal",
          "lacteos",
          "lacteos",
          "belleza-y-cuidado-personal",
          "belleza-y-cuidado-personal",
          "frutas",
          "comidas-preparadas",
          "lacteos",
          "lacteos",
          "belleza-y-cuidado-personal",
          "congelados",
          "congelados",
          "congelados",
          "lacteos",
          "lacteos",
          "lacteos",
          "belleza-y-cuidado-personal",
          "congelados",
          "instantaneos-y-sopas",
          "belleza-y-cuidado-personal",
          "congelados",
          "belleza-y-cuidado-personal",
          "belleza-y-cuidado-personal",
          "congelados",
          "lacteos",
          "lacteos",
          "congelados",
          "",
          "",
          "",
          "",
          "",
          "",
          ""
         ],
         "type": "treemap",
         "values": [
          0,
          0,
          0,
          0,
          0,
          15.004546832373448,
          20.00314564328405,
          0,
          21.307331166486097,
          0,
          24.653405666063893,
          0,
          0,
          25.00961908426318,
          0,
          0,
          0,
          16.99705159555273,
          0,
          0,
          0,
          0,
          0,
          14.992660935206542,
          0,
          0,
          0,
          14.624241796996746,
          0,
          16.351408154686844,
          0,
          0,
          0,
          0,
          0,
          0,
          10.530960128870822,
          0,
          13.059294288832302,
          0,
          0,
          0,
          0,
          25.341277236996515,
          27.277642606109758,
          0,
          0,
          0,
          0,
          0,
          0,
          0,
          0,
          0,
          0,
          17.001632292459107,
          0,
          0,
          0,
          0,
          0,
          0,
          0,
          0,
          0,
          0,
          0,
          0,
          0,
          10.711974110032363,
          0,
          0,
          0,
          0,
          19.22946941534302,
          0,
          0,
          0,
          0,
          0,
          0,
          0,
          0,
          18.997371757194877,
          0,
          15.00342543959808,
          15.312131919905772,
          0,
          0,
          0,
          0,
          0,
          0,
          16,
          0,
          23.01179956611461,
          0,
          0,
          20.002942041776993,
          16.166281755196305,
          0,
          0,
          20.02503128911139,
          0,
          0,
          0,
          24.98432601880878,
          24.98432601880878,
          12.853470437017995,
          0,
          0,
          28.603175722494115,
          17.338032896945283,
          0,
          23.432089265101965,
          0,
          0,
          0,
          0,
          0,
          22.380467955239062,
          15.002830722777883,
          22.380467955239062,
          15.002830722777883,
          0,
          0,
          0,
          0,
          15.00342543959808,
          0,
          0,
          0,
          20.319303338171263,
          0,
          0,
          0,
          12.728820774797786,
          20.467616009737295,
          0,
          0,
          0,
          0,
          0,
          0,
          12.048192771084338,
          0,
          0,
          16.06036940438575,
          0,
          0,
          18.489984591679505,
          0,
          0,
          20.00766622282498,
          0,
          0,
          0,
          0,
          0,
          0,
          0,
          0,
          0,
          15.004122011541632,
          0,
          0,
          0,
          429.3223356490032,
          12.853470437017995,
          214.285967214712,
          0,
          0,
          137.24438970075366,
          0
         ]
        }
       ],
       "layout": {
        "coloraxis": {
         "colorbar": {
          "title": {
           "text": "Desconto_Percentual"
          }
         },
         "colorscale": [
          [
           0,
           "#000004"
          ],
          [
           0.1111111111111111,
           "#1b0c41"
          ],
          [
           0.2222222222222222,
           "#4a0c6b"
          ],
          [
           0.3333333333333333,
           "#781c6d"
          ],
          [
           0.4444444444444444,
           "#a52c60"
          ],
          [
           0.5555555555555556,
           "#cf4446"
          ],
          [
           0.6666666666666666,
           "#ed6925"
          ],
          [
           0.7777777777777778,
           "#fb9b06"
          ],
          [
           0.8888888888888888,
           "#f7d13d"
          ],
          [
           1,
           "#fcffa4"
          ]
         ]
        },
        "legend": {
         "tracegroupgap": 0
        },
        "template": {
         "data": {
          "bar": [
           {
            "error_x": {
             "color": "#2a3f5f"
            },
            "error_y": {
             "color": "#2a3f5f"
            },
            "marker": {
             "line": {
              "color": "#E5ECF6",
              "width": 0.5
             },
             "pattern": {
              "fillmode": "overlay",
              "size": 10,
              "solidity": 0.2
             }
            },
            "type": "bar"
           }
          ],
          "barpolar": [
           {
            "marker": {
             "line": {
              "color": "#E5ECF6",
              "width": 0.5
             },
             "pattern": {
              "fillmode": "overlay",
              "size": 10,
              "solidity": 0.2
             }
            },
            "type": "barpolar"
           }
          ],
          "carpet": [
           {
            "aaxis": {
             "endlinecolor": "#2a3f5f",
             "gridcolor": "white",
             "linecolor": "white",
             "minorgridcolor": "white",
             "startlinecolor": "#2a3f5f"
            },
            "baxis": {
             "endlinecolor": "#2a3f5f",
             "gridcolor": "white",
             "linecolor": "white",
             "minorgridcolor": "white",
             "startlinecolor": "#2a3f5f"
            },
            "type": "carpet"
           }
          ],
          "choropleth": [
           {
            "colorbar": {
             "outlinewidth": 0,
             "ticks": ""
            },
            "type": "choropleth"
           }
          ],
          "contour": [
           {
            "colorbar": {
             "outlinewidth": 0,
             "ticks": ""
            },
            "colorscale": [
             [
              0,
              "#0d0887"
             ],
             [
              0.1111111111111111,
              "#46039f"
             ],
             [
              0.2222222222222222,
              "#7201a8"
             ],
             [
              0.3333333333333333,
              "#9c179e"
             ],
             [
              0.4444444444444444,
              "#bd3786"
             ],
             [
              0.5555555555555556,
              "#d8576b"
             ],
             [
              0.6666666666666666,
              "#ed7953"
             ],
             [
              0.7777777777777778,
              "#fb9f3a"
             ],
             [
              0.8888888888888888,
              "#fdca26"
             ],
             [
              1,
              "#f0f921"
             ]
            ],
            "type": "contour"
           }
          ],
          "contourcarpet": [
           {
            "colorbar": {
             "outlinewidth": 0,
             "ticks": ""
            },
            "type": "contourcarpet"
           }
          ],
          "heatmap": [
           {
            "colorbar": {
             "outlinewidth": 0,
             "ticks": ""
            },
            "colorscale": [
             [
              0,
              "#0d0887"
             ],
             [
              0.1111111111111111,
              "#46039f"
             ],
             [
              0.2222222222222222,
              "#7201a8"
             ],
             [
              0.3333333333333333,
              "#9c179e"
             ],
             [
              0.4444444444444444,
              "#bd3786"
             ],
             [
              0.5555555555555556,
              "#d8576b"
             ],
             [
              0.6666666666666666,
              "#ed7953"
             ],
             [
              0.7777777777777778,
              "#fb9f3a"
             ],
             [
              0.8888888888888888,
              "#fdca26"
             ],
             [
              1,
              "#f0f921"
             ]
            ],
            "type": "heatmap"
           }
          ],
          "heatmapgl": [
           {
            "colorbar": {
             "outlinewidth": 0,
             "ticks": ""
            },
            "colorscale": [
             [
              0,
              "#0d0887"
             ],
             [
              0.1111111111111111,
              "#46039f"
             ],
             [
              0.2222222222222222,
              "#7201a8"
             ],
             [
              0.3333333333333333,
              "#9c179e"
             ],
             [
              0.4444444444444444,
              "#bd3786"
             ],
             [
              0.5555555555555556,
              "#d8576b"
             ],
             [
              0.6666666666666666,
              "#ed7953"
             ],
             [
              0.7777777777777778,
              "#fb9f3a"
             ],
             [
              0.8888888888888888,
              "#fdca26"
             ],
             [
              1,
              "#f0f921"
             ]
            ],
            "type": "heatmapgl"
           }
          ],
          "histogram": [
           {
            "marker": {
             "pattern": {
              "fillmode": "overlay",
              "size": 10,
              "solidity": 0.2
             }
            },
            "type": "histogram"
           }
          ],
          "histogram2d": [
           {
            "colorbar": {
             "outlinewidth": 0,
             "ticks": ""
            },
            "colorscale": [
             [
              0,
              "#0d0887"
             ],
             [
              0.1111111111111111,
              "#46039f"
             ],
             [
              0.2222222222222222,
              "#7201a8"
             ],
             [
              0.3333333333333333,
              "#9c179e"
             ],
             [
              0.4444444444444444,
              "#bd3786"
             ],
             [
              0.5555555555555556,
              "#d8576b"
             ],
             [
              0.6666666666666666,
              "#ed7953"
             ],
             [
              0.7777777777777778,
              "#fb9f3a"
             ],
             [
              0.8888888888888888,
              "#fdca26"
             ],
             [
              1,
              "#f0f921"
             ]
            ],
            "type": "histogram2d"
           }
          ],
          "histogram2dcontour": [
           {
            "colorbar": {
             "outlinewidth": 0,
             "ticks": ""
            },
            "colorscale": [
             [
              0,
              "#0d0887"
             ],
             [
              0.1111111111111111,
              "#46039f"
             ],
             [
              0.2222222222222222,
              "#7201a8"
             ],
             [
              0.3333333333333333,
              "#9c179e"
             ],
             [
              0.4444444444444444,
              "#bd3786"
             ],
             [
              0.5555555555555556,
              "#d8576b"
             ],
             [
              0.6666666666666666,
              "#ed7953"
             ],
             [
              0.7777777777777778,
              "#fb9f3a"
             ],
             [
              0.8888888888888888,
              "#fdca26"
             ],
             [
              1,
              "#f0f921"
             ]
            ],
            "type": "histogram2dcontour"
           }
          ],
          "mesh3d": [
           {
            "colorbar": {
             "outlinewidth": 0,
             "ticks": ""
            },
            "type": "mesh3d"
           }
          ],
          "parcoords": [
           {
            "line": {
             "colorbar": {
              "outlinewidth": 0,
              "ticks": ""
             }
            },
            "type": "parcoords"
           }
          ],
          "pie": [
           {
            "automargin": true,
            "type": "pie"
           }
          ],
          "scatter": [
           {
            "fillpattern": {
             "fillmode": "overlay",
             "size": 10,
             "solidity": 0.2
            },
            "type": "scatter"
           }
          ],
          "scatter3d": [
           {
            "line": {
             "colorbar": {
              "outlinewidth": 0,
              "ticks": ""
             }
            },
            "marker": {
             "colorbar": {
              "outlinewidth": 0,
              "ticks": ""
             }
            },
            "type": "scatter3d"
           }
          ],
          "scattercarpet": [
           {
            "marker": {
             "colorbar": {
              "outlinewidth": 0,
              "ticks": ""
             }
            },
            "type": "scattercarpet"
           }
          ],
          "scattergeo": [
           {
            "marker": {
             "colorbar": {
              "outlinewidth": 0,
              "ticks": ""
             }
            },
            "type": "scattergeo"
           }
          ],
          "scattergl": [
           {
            "marker": {
             "colorbar": {
              "outlinewidth": 0,
              "ticks": ""
             }
            },
            "type": "scattergl"
           }
          ],
          "scattermapbox": [
           {
            "marker": {
             "colorbar": {
              "outlinewidth": 0,
              "ticks": ""
             }
            },
            "type": "scattermapbox"
           }
          ],
          "scatterpolar": [
           {
            "marker": {
             "colorbar": {
              "outlinewidth": 0,
              "ticks": ""
             }
            },
            "type": "scatterpolar"
           }
          ],
          "scatterpolargl": [
           {
            "marker": {
             "colorbar": {
              "outlinewidth": 0,
              "ticks": ""
             }
            },
            "type": "scatterpolargl"
           }
          ],
          "scatterternary": [
           {
            "marker": {
             "colorbar": {
              "outlinewidth": 0,
              "ticks": ""
             }
            },
            "type": "scatterternary"
           }
          ],
          "surface": [
           {
            "colorbar": {
             "outlinewidth": 0,
             "ticks": ""
            },
            "colorscale": [
             [
              0,
              "#0d0887"
             ],
             [
              0.1111111111111111,
              "#46039f"
             ],
             [
              0.2222222222222222,
              "#7201a8"
             ],
             [
              0.3333333333333333,
              "#9c179e"
             ],
             [
              0.4444444444444444,
              "#bd3786"
             ],
             [
              0.5555555555555556,
              "#d8576b"
             ],
             [
              0.6666666666666666,
              "#ed7953"
             ],
             [
              0.7777777777777778,
              "#fb9f3a"
             ],
             [
              0.8888888888888888,
              "#fdca26"
             ],
             [
              1,
              "#f0f921"
             ]
            ],
            "type": "surface"
           }
          ],
          "table": [
           {
            "cells": {
             "fill": {
              "color": "#EBF0F8"
             },
             "line": {
              "color": "white"
             }
            },
            "header": {
             "fill": {
              "color": "#C8D4E3"
             },
             "line": {
              "color": "white"
             }
            },
            "type": "table"
           }
          ]
         },
         "layout": {
          "annotationdefaults": {
           "arrowcolor": "#2a3f5f",
           "arrowhead": 0,
           "arrowwidth": 1
          },
          "autotypenumbers": "strict",
          "coloraxis": {
           "colorbar": {
            "outlinewidth": 0,
            "ticks": ""
           }
          },
          "colorscale": {
           "diverging": [
            [
             0,
             "#8e0152"
            ],
            [
             0.1,
             "#c51b7d"
            ],
            [
             0.2,
             "#de77ae"
            ],
            [
             0.3,
             "#f1b6da"
            ],
            [
             0.4,
             "#fde0ef"
            ],
            [
             0.5,
             "#f7f7f7"
            ],
            [
             0.6,
             "#e6f5d0"
            ],
            [
             0.7,
             "#b8e186"
            ],
            [
             0.8,
             "#7fbc41"
            ],
            [
             0.9,
             "#4d9221"
            ],
            [
             1,
             "#276419"
            ]
           ],
           "sequential": [
            [
             0,
             "#0d0887"
            ],
            [
             0.1111111111111111,
             "#46039f"
            ],
            [
             0.2222222222222222,
             "#7201a8"
            ],
            [
             0.3333333333333333,
             "#9c179e"
            ],
            [
             0.4444444444444444,
             "#bd3786"
            ],
            [
             0.5555555555555556,
             "#d8576b"
            ],
            [
             0.6666666666666666,
             "#ed7953"
            ],
            [
             0.7777777777777778,
             "#fb9f3a"
            ],
            [
             0.8888888888888888,
             "#fdca26"
            ],
            [
             1,
             "#f0f921"
            ]
           ],
           "sequentialminus": [
            [
             0,
             "#0d0887"
            ],
            [
             0.1111111111111111,
             "#46039f"
            ],
            [
             0.2222222222222222,
             "#7201a8"
            ],
            [
             0.3333333333333333,
             "#9c179e"
            ],
            [
             0.4444444444444444,
             "#bd3786"
            ],
            [
             0.5555555555555556,
             "#d8576b"
            ],
            [
             0.6666666666666666,
             "#ed7953"
            ],
            [
             0.7777777777777778,
             "#fb9f3a"
            ],
            [
             0.8888888888888888,
             "#fdca26"
            ],
            [
             1,
             "#f0f921"
            ]
           ]
          },
          "colorway": [
           "#636efa",
           "#EF553B",
           "#00cc96",
           "#ab63fa",
           "#FFA15A",
           "#19d3f3",
           "#FF6692",
           "#B6E880",
           "#FF97FF",
           "#FECB52"
          ],
          "font": {
           "color": "#2a3f5f"
          },
          "geo": {
           "bgcolor": "white",
           "lakecolor": "white",
           "landcolor": "#E5ECF6",
           "showlakes": true,
           "showland": true,
           "subunitcolor": "white"
          },
          "hoverlabel": {
           "align": "left"
          },
          "hovermode": "closest",
          "mapbox": {
           "style": "light"
          },
          "paper_bgcolor": "white",
          "plot_bgcolor": "#E5ECF6",
          "polar": {
           "angularaxis": {
            "gridcolor": "white",
            "linecolor": "white",
            "ticks": ""
           },
           "bgcolor": "#E5ECF6",
           "radialaxis": {
            "gridcolor": "white",
            "linecolor": "white",
            "ticks": ""
           }
          },
          "scene": {
           "xaxis": {
            "backgroundcolor": "#E5ECF6",
            "gridcolor": "white",
            "gridwidth": 2,
            "linecolor": "white",
            "showbackground": true,
            "ticks": "",
            "zerolinecolor": "white"
           },
           "yaxis": {
            "backgroundcolor": "#E5ECF6",
            "gridcolor": "white",
            "gridwidth": 2,
            "linecolor": "white",
            "showbackground": true,
            "ticks": "",
            "zerolinecolor": "white"
           },
           "zaxis": {
            "backgroundcolor": "#E5ECF6",
            "gridcolor": "white",
            "gridwidth": 2,
            "linecolor": "white",
            "showbackground": true,
            "ticks": "",
            "zerolinecolor": "white"
           }
          },
          "shapedefaults": {
           "line": {
            "color": "#2a3f5f"
           }
          },
          "ternary": {
           "aaxis": {
            "gridcolor": "white",
            "linecolor": "white",
            "ticks": ""
           },
           "baxis": {
            "gridcolor": "white",
            "linecolor": "white",
            "ticks": ""
           },
           "bgcolor": "#E5ECF6",
           "caxis": {
            "gridcolor": "white",
            "linecolor": "white",
            "ticks": ""
           }
          },
          "title": {
           "x": 0.05
          },
          "xaxis": {
           "automargin": true,
           "gridcolor": "white",
           "linecolor": "white",
           "ticks": "",
           "title": {
            "standoff": 15
           },
           "zerolinecolor": "white",
           "zerolinewidth": 2
          },
          "yaxis": {
           "automargin": true,
           "gridcolor": "white",
           "linecolor": "white",
           "ticks": "",
           "title": {
            "standoff": 15
           },
           "zerolinecolor": "white",
           "zerolinewidth": 2
          }
         }
        },
        "title": {
         "text": "Média de Descontos Percentuais por Categoria e Marca"
        }
       }
      }
     },
     "metadata": {},
     "output_type": "display_data"
    }
   ],
   "source": [
    "# Criar a Treemap com categoria e marca balisados pela média de desconto. \n",
    "\n",
    "# Calcular o desconto em % (se usar o preço normal vai dar erro.)\n",
    "df['Desconto_Percentual'] = (df['Desconto'] / df['Preco_Anterior']) * 100\n",
    "\n",
    "# Calcular a média do desconto % por categoria e marca\n",
    "media_desconto_categoria_marca = df.groupby(['Categoria', 'Marca'])['Desconto_Percentual'].mean().reset_index()\n",
    "\n",
    "# Criar o mapa interativo\n",
    "fig = px.treemap(\n",
    "    media_desconto_categoria_marca, \n",
    "    path=['Categoria', 'Marca'], \n",
    "    values='Desconto_Percentual',  \n",
    "    color='Desconto_Percentual', \n",
    "    color_continuous_scale='Inferno',\n",
    "    title='Média de Descontos Percentuais por Categoria e Marca'\n",
    ")\n",
    "\n",
    "fig.show()\n",
    "\n",
    "\n"
   ]
  },
  {
   "cell_type": "markdown",
   "metadata": {},
   "source": [
    "#### Nesse mapa interativo conseguimos destrinchar, dentro de cada categoria, quais são as marcas com maior desconto. \n",
    "#### Novamente usei valores relativos, pois valores absolutos geraria um gráfico distorcido já que são catergorias de produtos diferentes. "
   ]
  }
 ],
 "metadata": {
  "colab": {
   "provenance": []
  },
  "kernelspec": {
   "display_name": "Python 3",
   "name": "python3"
  },
  "language_info": {
   "codemirror_mode": {
    "name": "ipython",
    "version": 3
   },
   "file_extension": ".py",
   "mimetype": "text/x-python",
   "name": "python",
   "nbconvert_exporter": "python",
   "pygments_lexer": "ipython3",
   "version": "3.12.4"
  }
 },
 "nbformat": 4,
 "nbformat_minor": 0
}
